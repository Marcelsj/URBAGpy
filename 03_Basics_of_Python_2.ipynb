{
 "cells": [
  {
   "cell_type": "markdown",
   "metadata": {},
   "source": [
    "<h2>02 - Basics of Python 1</h2>"
   ]
  },
  {
   "cell_type": "markdown",
   "metadata": {},
   "source": [
    "<h3>Lists</h3>"
   ]
  },
  {
   "cell_type": "code",
   "execution_count": 1,
   "metadata": {},
   "outputs": [
    {
     "name": "stdout",
     "output_type": "stream",
     "text": [
      "[1, 2, 3]\n",
      "a_list has 3 elements.\n",
      "the maximum value in a_list is 3.\n",
      "the minimum value in a_list is 1.\n"
     ]
    }
   ],
   "source": [
    "# Use square brackets to create a list\n",
    "# len() counts the number of elements in a list\n",
    "# max() and min() find the maximum and minimum numbers in numeric lists\n",
    "# count() counts the number of times a value appears in a list\n",
    "a_list = [1, 2, 3]\n",
    "\n",
    "print(\"{}\".format(a_list))\n",
    "print(\"a_list has {} elements.\".format(len(a_list)))\n",
    "print(\"the maximum value in a_list is {}.\".format(max(a_list)))\n",
    "print(\"the minimum value in a_list is {}.\".format(min(a_list)))"
   ]
  },
  {
   "cell_type": "code",
   "execution_count": 2,
   "metadata": {},
   "outputs": [
    {
     "name": "stdout",
     "output_type": "stream",
     "text": [
      "['printer', 5, ['star', 'circle', 9], 5, ['sin', 'cos', 'tan'], (3, 5, 7), 'go fish', 5]\n",
      "another_list has 8 elements.\n",
      "5 is in another_list 3 times.\n"
     ]
    }
   ],
   "source": [
    "# A list can contain elements of different types, strings, integers, other lists, tuples...\n",
    "another_list = ['printer', 5, ['star', 'circle', 9], 5, ['sin', 'cos', 'tan'], (3, 5, 7), 'go fish', 5]\n",
    "\n",
    "print(\"{}\".format(another_list))\n",
    "print(\"another_list has {} elements.\".format(len(another_list)))\n",
    "print(\"5 is in another_list {} times.\".format(another_list.count(5)))"
   ]
  },
  {
   "cell_type": "code",
   "execution_count": 3,
   "metadata": {},
   "outputs": [
    {
     "name": "stdout",
     "output_type": "stream",
     "text": [
      "1\n",
      "2\n",
      "3\n",
      "3\n",
      "2\n",
      "1\n",
      "['star', 'circle', 9]\n",
      "5\n"
     ]
    }
   ],
   "source": [
    "# Use list indices to access specific values in a list\n",
    "# [0] is the first value; [-1] is the last value\n",
    "print(\"{}\".format(a_list[0]))\n",
    "print(\"{}\".format(a_list[1]))\n",
    "print(\"{}\".format(a_list[2]))\n",
    "print(\"{}\".format(a_list[-1]))\n",
    "print(\"{}\".format(a_list[-2]))\n",
    "print(\"{}\".format(a_list[-3]))\n",
    "print(\"{}\".format(another_list[2]))\n",
    "print(\"{}\".format(another_list[-1]))"
   ]
  },
  {
   "cell_type": "code",
   "execution_count": 4,
   "metadata": {},
   "outputs": [
    {
     "name": "stdout",
     "output_type": "stream",
     "text": [
      "[1, 2]\n",
      "[['sin', 'cos', 'tan'], (3, 5, 7), 'go fish', 5]\n"
     ]
    }
   ],
   "source": [
    "# Use list slices to access a subset of list values\n",
    "# Do not include the starting indice to start from the beginning\n",
    "# Do not include the ending indice to go all of the way to the end\n",
    "print(\"{}\".format(a_list[:2]))\n",
    "print(\"{}\".format(another_list[4:]))"
   ]
  },
  {
   "cell_type": "code",
   "execution_count": 5,
   "metadata": {},
   "outputs": [
    {
     "name": "stdout",
     "output_type": "stream",
     "text": [
      "[1, 2, 3, 4, 5, 6]\n"
     ]
    }
   ],
   "source": [
    "# Use append() to add additional values to the end of the list\n",
    "# Use remove() to remove specific values from the list\n",
    "# Use pop() to remove values from the end of the list\n",
    "a_list.append(4)\n",
    "a_list.append(5)\n",
    "a_list.append(6)\n",
    "print(\"{}\".format(a_list))"
   ]
  },
  {
   "cell_type": "code",
   "execution_count": 6,
   "metadata": {},
   "outputs": [
    {
     "name": "stdout",
     "output_type": "stream",
     "text": [
      "[6, 5, 4, 3, 2, 1]\n"
     ]
    }
   ],
   "source": [
    "# Use reverse() to reverse a list, in-place, meaning it changes the list\n",
    "# To reverse a list without changing the original list, make a copy first\n",
    "a_list_copy = a_list[:]\n",
    "a_list_copy.reverse()\n",
    "print(\"{}\".format(a_list_copy))"
   ]
  },
  {
   "cell_type": "code",
   "execution_count": 7,
   "metadata": {},
   "outputs": [
    {
     "name": "stdout",
     "output_type": "stream",
     "text": [
      "unordered: [3, 5, 1, 7, 2, 8, 4, 9, 0, 6]\n",
      "sorted copy: [0, 1, 2, 3, 4, 5, 6, 7, 8, 9]\n"
     ]
    }
   ],
   "source": [
    "# Use sort() to sort a list, in-place, meaning it changes the list\n",
    "# To sort a list without changing the original list, make a copy first\n",
    "unordered_list = [3, 5, 1, 7, 2, 8, 4, 9, 0, 6]\n",
    "print(\"unordered: {}\".format(unordered_list))\n",
    "list_copy = unordered_list[:]\n",
    "list_copy.sort()\n",
    "print(\"sorted copy: {}\".format(list_copy))"
   ]
  },
  {
   "cell_type": "markdown",
   "metadata": {},
   "source": [
    "<h3>Tuples</h3>"
   ]
  },
  {
   "cell_type": "code",
   "execution_count": 9,
   "metadata": {},
   "outputs": [
    {
     "name": "stdout",
     "output_type": "stream",
     "text": [
      "('x', 'y', 'z')\n",
      "my_tuple has 3 elements\n",
      "y\n"
     ]
    }
   ],
   "source": [
    "# Use parentheses to create a tuple\n",
    "my_tuple = ('x', 'y', 'z')\n",
    "\n",
    "print(\"{}\".format(my_tuple))\n",
    "print(\"my_tuple has {} elements\".format(len(my_tuple)))\n",
    "print(\"{}\".format(my_tuple[1]))"
   ]
  },
  {
   "cell_type": "code",
   "execution_count": 10,
   "metadata": {},
   "outputs": [
    {
     "name": "stdout",
     "output_type": "stream",
     "text": [
      "('x', 'y', 'z', 'x', 'y', 'z')\n"
     ]
    }
   ],
   "source": [
    "# Combine tuples\n",
    "longer_tuple = my_tuple + my_tuple\n",
    "print(\"{}\".format(longer_tuple))"
   ]
  },
  {
   "cell_type": "code",
   "execution_count": 11,
   "metadata": {},
   "outputs": [
    {
     "name": "stdout",
     "output_type": "stream",
     "text": [
      "x y z\n"
     ]
    },
    {
     "data": {
      "text/plain": [
       "'x'"
      ]
     },
     "execution_count": 11,
     "metadata": {},
     "output_type": "execute_result"
    }
   ],
   "source": [
    "# Unpack tuples with the left-hand side of an assignment operator\n",
    "one, two, three = my_tuple\n",
    "print(\"{0} {1} {2}\".format(one, two, three))\n",
    "one"
   ]
  },
  {
   "cell_type": "code",
   "execution_count": 12,
   "metadata": {},
   "outputs": [
    {
     "name": "stdout",
     "output_type": "stream",
     "text": [
      "original values: red robin\n",
      "swapped values: robin red\n"
     ]
    }
   ],
   "source": [
    "# Swap values between variables\n",
    "var1 = 'red'\n",
    "var2 = 'robin'\n",
    "print(\"original values: {} {}\".format(var1, var2))\n",
    "\n",
    "var1, var2 = var2, var1\n",
    "print(\"swapped values: {} {}\".format(var1, var2))"
   ]
  },
  {
   "cell_type": "code",
   "execution_count": 13,
   "metadata": {},
   "outputs": [
    {
     "name": "stdout",
     "output_type": "stream",
     "text": [
      "list into tuple: (1, 2, 3)\n",
      "tuple into list: ['x', 'y', 'z']\n"
     ]
    }
   ],
   "source": [
    "# Convert tuples to lists and lists to tuples\n",
    "my_list = [1, 2, 3]\n",
    "my_tuple = ('x', 'y', 'z')\n",
    "\n",
    "print(\"list into tuple: {}\".format(tuple(my_list)))\n",
    "print(\"tuple into list: {}\".format(list(my_tuple)))"
   ]
  },
  {
   "cell_type": "markdown",
   "metadata": {},
   "source": [
    "<h3>Dictionaries</h3>"
   ]
  },
  {
   "cell_type": "code",
   "execution_count": 15,
   "metadata": {},
   "outputs": [
    {
     "name": "stdout",
     "output_type": "stream",
     "text": [
      "{'one': 1, 'two': 2, 'three': 3}\n",
      "a_dict has 3 elements\n"
     ]
    }
   ],
   "source": [
    "# Use curly braces to create a dictionary\n",
    "# Use a colon between keys and values in each pair\n",
    "# len() counts the number of key-value pairs in a dictionary\n",
    "empty_dict = {}\n",
    "\n",
    "a_dict = {'one':1, 'two':2, 'three':3}\n",
    "print(\"{}\".format(a_dict))\n",
    "print(\"a_dict has {!s} elements\".format(len(a_dict)))"
   ]
  },
  {
   "cell_type": "code",
   "execution_count": 16,
   "metadata": {},
   "outputs": [
    {
     "name": "stdout",
     "output_type": "stream",
     "text": [
      "{'x': 'printer', 'y': 5, 'z': ['star', 'circle', 9]}\n",
      "another_dict has 3 elements\n"
     ]
    }
   ],
   "source": [
    "another_dict = dict(x='printer', y=5, z=['star', 'circle', 9])\n",
    "print(\"{}\".format(another_dict))\n",
    "print(\"another_dict has {!s} elements\".format(len(another_dict)))"
   ]
  },
  {
   "cell_type": "code",
   "execution_count": 17,
   "metadata": {},
   "outputs": [
    {
     "name": "stdout",
     "output_type": "stream",
     "text": [
      "2\n",
      "['star', 'circle', 9]\n"
     ]
    }
   ],
   "source": [
    "# Use keys to access specific values in a dictionary\n",
    "print(\"{}\".format(a_dict['two']))\n",
    "print(\"{}\".format(another_dict['z']))"
   ]
  },
  {
   "cell_type": "code",
   "execution_count": 18,
   "metadata": {},
   "outputs": [
    {
     "name": "stdout",
     "output_type": "stream",
     "text": [
      "keys: dict_keys(['one', 'two', 'three'])\n",
      "values: dict_values([1, 2, 3])\n",
      "items: dict_items([('one', 1), ('two', 2), ('three', 3)])\n"
     ]
    }
   ],
   "source": [
    "# Use keys(), values(), and items() to access\n",
    "# a dictionary's keys, values, and key-value pairs, respectively\n",
    "print(\"keys: {}\".format(a_dict.keys()))\n",
    "print(\"values: {}\".format(a_dict.values()))\n",
    "print(\"items: {}\".format(a_dict.items()))"
   ]
  },
  {
   "cell_type": "code",
   "execution_count": 19,
   "metadata": {},
   "outputs": [
    {
     "name": "stdout",
     "output_type": "stream",
     "text": [
      "one 1\n",
      "two 2\n",
      "three 3\n"
     ]
    }
   ],
   "source": [
    "# Iterate through key-value pairs and print them\n",
    "for key, value in a_dict.items():\n",
    "    print(key, value)"
   ]
  },
  {
   "cell_type": "markdown",
   "metadata": {},
   "source": [
    "<h3>Control Flow</h3>"
   ]
  },
  {
   "cell_type": "code",
   "execution_count": 20,
   "metadata": {},
   "outputs": [
    {
     "name": "stdout",
     "output_type": "stream",
     "text": [
      "the value of x is 5.\n"
     ]
    }
   ],
   "source": [
    "# if-else statement\n",
    "x = 5\n",
    "if x > 4 and x != 9:\n",
    "    print(\"the value of x is {}.\".format(x))\n",
    "else:\n",
    "    print(\"x is not greater than 4 or equals 9.\")"
   ]
  },
  {
   "cell_type": "code",
   "execution_count": 23,
   "metadata": {},
   "outputs": [
    {
     "name": "stdout",
     "output_type": "stream",
     "text": [
      "y is not greater than 3.\n"
     ]
    }
   ],
   "source": [
    "# if-elif-else statement\n",
    "y = 2\n",
    "if y > 6:\n",
    "    print(\"y is greater than six.\")\n",
    "elif y > 3:\n",
    "    print(\"y^2 = {}\".format(y*y))\n",
    "else:\n",
    "    print(\"y is not greater than 3.\")"
   ]
  },
  {
   "cell_type": "code",
   "execution_count": 24,
   "metadata": {},
   "outputs": [
    {
     "name": "stdout",
     "output_type": "stream",
     "text": [
      "0\n",
      "1\n",
      "2\n",
      "3\n",
      "4\n",
      "5\n"
     ]
    }
   ],
   "source": [
    "# while loop\n",
    "x = 0\n",
    "while x < 6:\n",
    "    print(\"{!s}\".format(x))\n",
    "    x += 1"
   ]
  },
  {
   "cell_type": "code",
   "execution_count": 29,
   "metadata": {},
   "outputs": [
    {
     "name": "stdout",
     "output_type": "stream",
     "text": [
      "Jan\n",
      "Feb\n",
      "Mar\n",
      "Apr\n",
      "May\n",
      "Jun\n",
      "Jul\n",
      "Aug\n",
      "Sep\n",
      "Oct\n",
      "Nov\n",
      "Dec\n"
     ]
    }
   ],
   "source": [
    "# for loop\n",
    "months = ['Jan', 'Feb', 'Mar', 'Apr', 'May', 'Jun', 'Jul', 'Aug', 'Sep', 'Oct', 'Nov', 'Dec']\n",
    "\n",
    "for month in months:\n",
    "    print(\"{!s}\".format(month))"
   ]
  },
  {
   "cell_type": "code",
   "execution_count": 30,
   "metadata": {},
   "outputs": [
    {
     "name": "stdout",
     "output_type": "stream",
     "text": [
      "0: Jan\n",
      "1: Feb\n",
      "2: Mar\n",
      "3: Apr\n",
      "4: May\n",
      "5: Jun\n",
      "6: Jul\n",
      "7: Aug\n",
      "8: Sep\n",
      "9: Oct\n",
      "10: Nov\n",
      "11: Dec\n"
     ]
    }
   ],
   "source": [
    "for i, month in enumerate(months):\n",
    "    print(\"{}: {!s}\".format(i, month))"
   ]
  },
  {
   "cell_type": "code",
   "execution_count": 32,
   "metadata": {},
   "outputs": [
    {
     "name": "stdout",
     "output_type": "stream",
     "text": [
      "list comprehension: [[4, 5, 6], [7, 8, 9]]\n"
     ]
    }
   ],
   "source": [
    "# compact for loops\n",
    "# list, set, and dictionary comprehensions\n",
    "\n",
    "# select specific rows using a list comprehension\n",
    "my_data = [[1,2,3], [4,5,6], [7,8,9]]\n",
    "\n",
    "rows_to_keep = [row for row in my_data if row[2] > 5]\n",
    "print(\"list comprehension: {}\".format(rows_to_keep))"
   ]
  },
  {
   "cell_type": "code",
   "execution_count": null,
   "metadata": {},
   "outputs": [],
   "source": []
  },
  {
   "cell_type": "code",
   "execution_count": null,
   "metadata": {},
   "outputs": [],
   "source": []
  },
  {
   "cell_type": "code",
   "execution_count": null,
   "metadata": {},
   "outputs": [],
   "source": []
  },
  {
   "cell_type": "code",
   "execution_count": null,
   "metadata": {},
   "outputs": [],
   "source": []
  },
  {
   "cell_type": "code",
   "execution_count": null,
   "metadata": {},
   "outputs": [],
   "source": []
  },
  {
   "cell_type": "code",
   "execution_count": null,
   "metadata": {},
   "outputs": [],
   "source": []
  },
  {
   "cell_type": "code",
   "execution_count": null,
   "metadata": {},
   "outputs": [],
   "source": []
  },
  {
   "cell_type": "code",
   "execution_count": null,
   "metadata": {},
   "outputs": [],
   "source": []
  },
  {
   "cell_type": "code",
   "execution_count": null,
   "metadata": {},
   "outputs": [],
   "source": []
  },
  {
   "cell_type": "code",
   "execution_count": null,
   "metadata": {},
   "outputs": [],
   "source": []
  },
  {
   "cell_type": "code",
   "execution_count": null,
   "metadata": {},
   "outputs": [],
   "source": []
  }
 ],
 "metadata": {
  "kernelspec": {
   "display_name": "Python 3",
   "language": "python",
   "name": "python3"
  },
  "language_info": {
   "codemirror_mode": {
    "name": "ipython",
    "version": 3
   },
   "file_extension": ".py",
   "mimetype": "text/x-python",
   "name": "python",
   "nbconvert_exporter": "python",
   "pygments_lexer": "ipython3",
   "version": "3.7.4"
  }
 },
 "nbformat": 4,
 "nbformat_minor": 4
}
