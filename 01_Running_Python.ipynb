{
 "cells": [
  {
   "cell_type": "markdown",
   "metadata": {},
   "source": [
    "<h2>01 - Running Python</h2>"
   ]
  },
  {
   "cell_type": "markdown",
   "metadata": {},
   "source": [
    "<h3>JupyterLab and Jupyter Notebook </h3>"
   ]
  },
  {
   "cell_type": "markdown",
   "metadata": {},
   "source": [
    "<p>There are 3 diferent types of cells in JupiterLab: Code, Markdown and Raw<p>\n",
    "    <ul>\n",
    "        <li>\n",
    "            <b>Code Cells</b>: allow you to enter and run code by pressing <i>Shift-Enter</i>. You can learn more here:\n",
    "            <a href ='https://jupyter-notebook.readthedocs.io/en/stable/examples/Notebook/Running%20Code.html#Code-cells-allow-you-to-enter-and-run-code' > More about Running Code</a>\n",
    "        </li>\n",
    "        <li>\n",
    "            <b>Markdown Cells</b>: allow to introduce text with some style using diferent types of notattion: Markdown, LaTeX, GitHub flavored markdown or General HTML. You can learn more here: <a href ='https://jupyter-notebook.readthedocs.io/en/stable/examples/Notebook/Working%20With%20Markdown%20Cells.html' > More about markdown cells</a>\n",
    "        </li>\n",
    "        <li>\n",
    "            <b>Raw Cells</b>: allow to enter text with no format. It will not be executed or interpreted by any language.\n",
    "<a href ='https://nbsphinx.readthedocs.io/en/0.3.1/raw-cells.html#Usage' > More about raw cells</a>\n",
    "        </li>\n",
    "    </ul>\n",
    "     "
   ]
  },
  {
   "cell_type": "code",
   "execution_count": 1,
   "metadata": {},
   "outputs": [
    {
     "name": "stdout",
     "output_type": "stream",
     "text": [
      "Python 3.7.4\n"
     ]
    }
   ],
   "source": [
    "# Use the exclamation mark ! at the beginning of a line to execute console commands\n",
    "# the following example checks your python version\n",
    "! python --version"
   ]
  },
  {
   "cell_type": "code",
   "execution_count": 3,
   "metadata": {},
   "outputs": [],
   "source": [
    "#some basic terminal commands can be runned without the exclamation mark"
   ]
  },
  {
   "cell_type": "code",
   "execution_count": 4,
   "metadata": {},
   "outputs": [
    {
     "name": "stdout",
     "output_type": "stream",
     "text": [
      " El volumen de la unidad C no tiene etiqueta.\n",
      " El número de serie del volumen es: DC23-03B1\n",
      "\n",
      " Directorio de C:\\Users\\2108840\\Projects\\CursPython\\URBAGpy\n",
      "\n",
      "09/01/2020  09:57    <DIR>          .\n",
      "09/01/2020  09:57    <DIR>          ..\n",
      "09/01/2020  09:29    <DIR>          .ipynb_checkpoints\n",
      "09/01/2020  09:31             2.471 00_CourseOutline.ipynb\n",
      "09/01/2020  09:57             3.207 01_Running_Python.ipynb\n",
      "09/01/2020  09:26             3.034 02_Basics_of_Python.ipynb\n",
      "07/01/2020  12:55                60 README.md\n",
      "               4 archivos          8.772 bytes\n",
      "               3 dirs  368.802.541.568 bytes libres\n"
     ]
    }
   ],
   "source": [
    "ls"
   ]
  }
 ],
 "metadata": {
  "kernelspec": {
   "display_name": "Python 3",
   "language": "python",
   "name": "python3"
  },
  "language_info": {
   "codemirror_mode": {
    "name": "ipython",
    "version": 3
   },
   "file_extension": ".py",
   "mimetype": "text/x-python",
   "name": "python",
   "nbconvert_exporter": "python",
   "pygments_lexer": "ipython3",
   "version": "3.7.4"
  }
 },
 "nbformat": 4,
 "nbformat_minor": 4
}
