{
 "cells": [
  {
   "cell_type": "markdown",
   "metadata": {},
   "source": [
    "<h3>URBAGpy training</h3>\n",
    "<p>\n",
    "    Python course for research and data analysis\n",
    "</p>"
   ]
  },
  {
   "cell_type": "markdown",
   "metadata": {},
   "source": [
    "<h2> Course Outline </h2>\n",
    "<ol>\n",
    "    <li>\n",
    "        Running Python\n",
    "        <ul>\n",
    "            <li>\n",
    "                JupiterLab\n",
    "            </li>\n",
    "        </ul>\n",
    "    </li>\n",
    "    <li>\n",
    "        Basics of Python 1\n",
    "        <ul>\n",
    "            <li>\n",
    "                Print Statement\n",
    "            </li>\n",
    "            <li>\n",
    "                Strings\n",
    "            </li>            \n",
    "            <li>\n",
    "                Numbers\n",
    "            </li>\n",
    "            <li>\n",
    "                Dates\n",
    "            </li>  \n",
    "        </ul>\n",
    "    </li>\n",
    "    <li>\n",
    "        Basics of Python 2\n",
    "        <ul>\n",
    "            <li>\n",
    "                Lists\n",
    "            </li>\n",
    "            <li>\n",
    "                Tuples\n",
    "            </li>\n",
    "            <li>\n",
    "                Dictionaries\n",
    "            </li>            \n",
    "            <li>\n",
    "                Control flow\n",
    "            </li>            \n",
    "            <li>\n",
    "                Functions\n",
    "            </li>\n",
    "            <li>\n",
    "                Exceptions\n",
    "            </li>   \n",
    "        </ul>\n",
    "    </li>    \n",
    "</ol>"
   ]
  },
  {
   "cell_type": "code",
   "execution_count": null,
   "metadata": {},
   "outputs": [],
   "source": []
  }
 ],
 "metadata": {
  "kernelspec": {
   "display_name": "Python 3",
   "language": "python",
   "name": "python3"
  },
  "language_info": {
   "codemirror_mode": {
    "name": "ipython",
    "version": 3
   },
   "file_extension": ".py",
   "mimetype": "text/x-python",
   "name": "python",
   "nbconvert_exporter": "python",
   "pygments_lexer": "ipython3",
   "version": "3.7.4"
  }
 },
 "nbformat": 4,
 "nbformat_minor": 4
}
