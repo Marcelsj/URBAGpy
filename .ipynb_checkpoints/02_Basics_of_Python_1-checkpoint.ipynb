{
 "cells": [
  {
   "cell_type": "markdown",
   "metadata": {},
   "source": [
    "<h2>02 - Basics of Python 1</h2>"
   ]
  },
  {
   "cell_type": "markdown",
   "metadata": {},
   "source": [
    "<h3> Print Statement </h3>\n",
    "<h5>Syntax:</h5>\n",
    "<code>print(object(s), separator=separator, end=end, file=file, flush=flush)</code>\n",
    "References about print()\n",
    "<ul>\n",
    "    <li>\n",
    "        <a href=\"https://www.w3schools.com/python/ref_func_print.asp\">w3schools</a>\n",
    "    </li>\n",
    "    <li>\n",
    "        <a href=\"https://docs.python.org/3/library/functions.html#print\">python docs</a>\n",
    "    </li>    \n",
    "</ul>"
   ]
  },
  {
   "cell_type": "code",
   "execution_count": 1,
   "metadata": {},
   "outputs": [
    {
     "name": "stdout",
     "output_type": "stream",
     "text": [
      "I'm excited to learn Python.\n"
     ]
    }
   ],
   "source": [
    "#Print a simple string\n",
    "print(\"I'm excited to learn Python.\")"
   ]
  },
  {
   "cell_type": "code",
   "execution_count": 2,
   "metadata": {},
   "outputs": [
    {
     "name": "stdout",
     "output_type": "stream",
     "text": [
      "Hello World !\n"
     ]
    }
   ],
   "source": [
    "# Printing several strings\n",
    "print(\"Hello\", \"World\", \"!\")"
   ]
  },
  {
   "cell_type": "code",
   "execution_count": 3,
   "metadata": {},
   "outputs": [
    {
     "name": "stdout",
     "output_type": "stream",
     "text": [
      "Hello_World_!\n"
     ]
    }
   ],
   "source": [
    "# Define a separator to be printed between print elements\n",
    "print(\"Hello\", \"World\", \"!\", sep=\"_\")"
   ]
  },
  {
   "cell_type": "code",
   "execution_count": 4,
   "metadata": {},
   "outputs": [
    {
     "name": "stdout",
     "output_type": "stream",
     "text": [
      "Hello_World_!Hello_World_!\n",
      "Hello_World_!END"
     ]
    }
   ],
   "source": [
    "# Define the final character to be printed add the end of the strings\n",
    "print(\"Hello\", \"World\", \"!\", sep=\"_\", end='')\n",
    "print(\"Hello\", \"World\", \"!\", sep=\"_\", end='\\n')\n",
    "print(\"Hello\", \"World\", \"!\", sep=\"_\", end='END')"
   ]
  },
  {
   "cell_type": "code",
   "execution_count": 5,
   "metadata": {},
   "outputs": [],
   "source": [
    "# Define a file where to print some string\n",
    "print(\"Hello URBAG team!\\nHow are you today?\", file=open(\"./hello.txt\",'w') )"
   ]
  },
  {
   "cell_type": "markdown",
   "metadata": {},
   "source": [
    "<h3> Strings </h3>"
   ]
  },
  {
   "cell_type": "code",
   "execution_count": 25,
   "metadata": {},
   "outputs": [
    {
     "name": "stdout",
     "output_type": "stream",
     "text": [
      "I'm enjoying learning Python\n",
      "I'm enjoying learning Python\n"
     ]
    }
   ],
   "source": [
    "# write a single quote in a single quote defined string or defined it in a doble quote.\n",
    "print('I\\'m enjoying learning Python')\n",
    "print(\"I\\'m enjoying learning Python\")"
   ]
  },
  {
   "cell_type": "code",
   "execution_count": 33,
   "metadata": {},
   "outputs": [
    {
     "name": "stdout",
     "output_type": "stream",
     "text": [
      "You can use triple single quotes\n",
      "for multi-line comment strings\n",
      "You can also use triple double quotes\n",
      "for multi-line comment strings\n",
      "You can also include '\\n' \n",
      "for multi-line comment strings\n"
     ]
    }
   ],
   "source": [
    "# Use triple single or double quotes if you want the string to span multiple lines\n",
    "# and you don't want to use the \"\\\"\n",
    "print('''You can use triple single quotes\n",
    "for multi-line comment strings''')\n",
    "\n",
    "print(\"\"\"You can also use triple double quotes\n",
    "for multi-line comment strings\"\"\")\n",
    "\n",
    "print(\"You can also include '\\\\n' \\nfor multi-line comment strings\")"
   ]
  },
  {
   "cell_type": "code",
   "execution_count": 23,
   "metadata": {},
   "outputs": [
    {
     "name": "stdout",
     "output_type": "stream",
     "text": [
      "I was born in 1982.\n"
     ]
    }
   ],
   "source": [
    "# Pass variables to print\n",
    "birthYear = 1982\n",
    "print(\"I was born in {}.\".format(birthYear))"
   ]
  },
  {
   "cell_type": "code",
   "execution_count": 15,
   "metadata": {},
   "outputs": [
    {
     "name": "stdout",
     "output_type": "stream",
     "text": [
      "Number py is: 3.1415926535\n",
      "Number py is: 3\n",
      "Number py is: 3.142\n",
      "Number py is: 3.141593\n"
     ]
    }
   ],
   "source": [
    "# Define variables format\n",
    "py = 3.1415926535\n",
    "print(\"Number py is: {}\".format(py) )\n",
    "print(\"Number py is: {0:.0f}\".format(py) )\n",
    "print(\"Number py is: {0:.3f}\".format(py) )\n",
    "print(\"Number py is: {0:.6f}\".format(py) )"
   ]
  },
  {
   "cell_type": "markdown",
   "metadata": {},
   "source": [
    "The Format function has many options you can learn more here:\n",
    "<a href=https://www.w3schools.com/python/ref_string_format.asp> w3schools</a>"
   ]
  },
  {
   "cell_type": "code",
   "execution_count": 27,
   "metadata": {},
   "outputs": [
    {
     "name": "stdout",
     "output_type": "stream",
     "text": [
      "This is a short string.\n"
     ]
    }
   ],
   "source": [
    "# Combine strings\n",
    "string1 = \"This is a \"\n",
    "string2 = \"short string.\"\n",
    "\n",
    "sentence = string1 + string2\n",
    "print(\"{0:s}\".format(sentence))"
   ]
  },
  {
   "cell_type": "code",
   "execution_count": 28,
   "metadata": {},
   "outputs": [
    {
     "name": "stdout",
     "output_type": "stream",
     "text": [
      "She is very very very very beautiful.\n"
     ]
    }
   ],
   "source": [
    "# Repeat a string\n",
    "print(\"{0:s} {1:s}{2:s}\".format(\"She is\", \"very \"*4, \"beautiful.\"))"
   ]
  },
  {
   "cell_type": "code",
   "execution_count": 29,
   "metadata": {},
   "outputs": [
    {
     "name": "stdout",
     "output_type": "stream",
     "text": [
      "The string labeled 'sentence' is 23 characters long.\n"
     ]
    }
   ],
   "source": [
    "# Determine the number of characters in a string, including spaces and punctuation\n",
    "m = len(sentence)\n",
    "print(\"The string labeled 'sentence' is {0:d} characters long.\".format(m))"
   ]
  },
  {
   "cell_type": "code",
   "execution_count": 30,
   "metadata": {},
   "outputs": [
    {
     "name": "stdout",
     "output_type": "stream",
     "text": [
      "Split string on whitespace: ['My', 'deliverable', 'is', 'due', 'in', 'May']\n",
      "Split only two times: ['My', 'deliverable', 'is due in May']\n"
     ]
    }
   ],
   "source": [
    "# split()\n",
    "my_string = \"My deliverable is due in May\"\n",
    "\n",
    "my_string_seq1 = my_string.split()\n",
    "my_string_seq2 = my_string.split(\" \", 2)\n",
    "\n",
    "print(\"Split string on whitespace: {0}\\nSplit only two times: {1}\".format(my_string_seq1, my_string_seq2))"
   ]
  },
  {
   "cell_type": "code",
   "execution_count": 31,
   "metadata": {},
   "outputs": [
    {
     "name": "stdout",
     "output_type": "stream",
     "text": [
      "Split string on comma: ['Your', 'deliverable', 'is', 'due', 'in', 'June']\n"
     ]
    }
   ],
   "source": [
    "my_string2 = \"Your,deliverable,is,due,in,June\"\n",
    "my_string2_seq = my_string2.split(',')\n",
    "print(\"Split string on comma: {0}\".format(my_string2_seq))"
   ]
  },
  {
   "cell_type": "code",
   "execution_count": 32,
   "metadata": {},
   "outputs": [
    {
     "name": "stdout",
     "output_type": "stream",
     "text": [
      "Join sequence elements into a string with comma separator: My,deliverable,is,due,in,May\n"
     ]
    }
   ],
   "source": [
    "# join()\n",
    "print(\"Join sequence elements into a string with comma separator: {0}\".format(','.join(my_string_seq1)))"
   ]
  },
  {
   "cell_type": "code",
   "execution_count": 33,
   "metadata": {},
   "outputs": [
    {
     "name": "stdout",
     "output_type": "stream",
     "text": [
      "Replace spaces with commas: Let's,replace,the,spaces,in,this,sentence,with,other,characters.\n"
     ]
    }
   ],
   "source": [
    "# replace()\n",
    "string_to_replace = \"Let's replace the spaces in this sentence with other characters.\"\n",
    "\n",
    "string_replace = string_to_replace.replace(\" \", \",\")\n",
    "print(\"Replace spaces with commas: {0:s}\".format(string_replace))"
   ]
  },
  {
   "cell_type": "code",
   "execution_count": 34,
   "metadata": {},
   "outputs": [
    {
     "name": "stdout",
     "output_type": "stream",
     "text": [
      "lowercase all characters: here's what happens when you use lower.\n",
      "uppercase all characters: HERE'S WHAT HAPPENS WHEN YOU USE UPPER.\n"
     ]
    }
   ],
   "source": [
    "# lower(), upper(), capitalize()\n",
    "string_to_lower = \"Here's WHAT Happens WHEN You Use lower.\"\n",
    "print(\"lowercase all characters: {0:s}\".format(string_to_lower.lower()))\n",
    "\n",
    "string_to_upper = \"Here's what Happens when You Use UPPER.\"\n",
    "print(\"uppercase all characters: {0:s}\".format(string_to_upper.upper()))"
   ]
  },
  {
   "cell_type": "markdown",
   "metadata": {},
   "source": [
    "<h3> Numbers </h3>"
   ]
  },
  {
   "cell_type": "code",
   "execution_count": 35,
   "metadata": {},
   "outputs": [
    {
     "data": {
      "text/plain": [
       "int"
      ]
     },
     "execution_count": 35,
     "metadata": {},
     "output_type": "execute_result"
    }
   ],
   "source": [
    "# Type returns the type of a given variable\n",
    "x = 3\n",
    "type(x)"
   ]
  },
  {
   "cell_type": "code",
   "execution_count": 18,
   "metadata": {},
   "outputs": [
    {
     "data": {
      "text/plain": [
       "float"
      ]
     },
     "execution_count": 18,
     "metadata": {},
     "output_type": "execute_result"
    }
   ],
   "source": [
    "py=3.1415926535\n",
    "type(py)"
   ]
  },
  {
   "cell_type": "code",
   "execution_count": 26,
   "metadata": {},
   "outputs": [
    {
     "name": "stdout",
     "output_type": "stream",
     "text": [
      "The variable y is of type: <class 'float'> and contains the value 6.283185307\n"
     ]
    }
   ],
   "source": [
    "# If we add an integer an a float python will cast the integer into a float and execute the operation\n",
    "y = x + py\n",
    "print(\"The variable y is of type: {type} and contains the value {value}\".format(type=type(y), value=y))"
   ]
  },
  {
   "cell_type": "code",
   "execution_count": 22,
   "metadata": {},
   "outputs": [],
   "source": [
    "#Python provides a mathematical module with several usefull functions\n",
    "from math import exp, log, sqrt"
   ]
  },
  {
   "cell_type": "code",
   "execution_count": 23,
   "metadata": {},
   "outputs": [
    {
     "name": "stdout",
     "output_type": "stream",
     "text": [
      "e^3 = 20.0855\n",
      "ln(4) = 1.386\n",
      "sqrt(81) = 9.0\n"
     ]
    }
   ],
   "source": [
    "print(\"e^3 = {0:.4f}\".format(exp(3)))\n",
    "print(\"ln(4) = {0:.3f}\".format(log(4)))\n",
    "print(\"sqrt(81) = {0:.1f}\".format(sqrt(81)))"
   ]
  },
  {
   "cell_type": "markdown",
   "metadata": {},
   "source": [
    "<h3> Dates </h3>"
   ]
  },
  {
   "cell_type": "code",
   "execution_count": 3,
   "metadata": {},
   "outputs": [],
   "source": [
    "from datetime import date, datetime"
   ]
  },
  {
   "cell_type": "code",
   "execution_count": 4,
   "metadata": {},
   "outputs": [
    {
     "name": "stdout",
     "output_type": "stream",
     "text": [
      "today's date: 2020-01-09\n",
      "year: 2020\n",
      "month: 1\n",
      "day: 9\n",
      "today's datetime: 2020-01-09 12:10:33.892364\n"
     ]
    }
   ],
   "source": [
    "# Print today's date, as well as the year, month, and day elements\n",
    "today = date.today()\n",
    "print(\"today's date: {0!s}\".format(today))\n",
    "print(\"year: {0!s}\".format(today.year))\n",
    "print(\"month: {0!s}\".format(today.month))\n",
    "print(\"day: {0!s}\".format(today.day))\n",
    "\n",
    "current_datetime = datetime.today()\n",
    "print(\"today's datetime: {0!s}\".format(current_datetime))"
   ]
  },
  {
   "cell_type": "code",
   "execution_count": 12,
   "metadata": {},
   "outputs": [
    {
     "name": "stdout",
     "output_type": "stream",
     "text": [
      "01/09/2020\n",
      "Jan 09, 2020\n",
      "2020-01-09\n",
      "January 09, 2020\n"
     ]
    },
    {
     "data": {
      "text/plain": [
       "datetime.date(2020, 1, 9)"
      ]
     },
     "execution_count": 12,
     "metadata": {},
     "output_type": "execute_result"
    }
   ],
   "source": [
    "# Create four strings representing the same date with different date formats\n",
    "date1 = today.strftime('%m/%d/%Y')\n",
    "date2 = today.strftime('%b %d, %Y')\n",
    "date3 = today.strftime('%Y-%m-%d')\n",
    "date4 = today.strftime('%B %d, %Y')\n",
    "print(date1)\n",
    "print(date2)\n",
    "print(date3)\n",
    "print(date4)\n",
    "today"
   ]
  },
  {
   "cell_type": "code",
   "execution_count": 13,
   "metadata": {},
   "outputs": [
    {
     "name": "stdout",
     "output_type": "stream",
     "text": [
      "2020-01-09 00:00:00\n",
      "2020-01-09 00:00:00\n",
      "2020-01-09\n",
      "2020-01-09\n"
     ]
    }
   ],
   "source": [
    "# Create DATETIME objects based on strings that have different date formats\n",
    "print(\"{!s}\".format(datetime.strptime(date1, '%m/%d/%Y')))\n",
    "print(\"{!s}\".format(datetime.strptime(date2, '%b %d, %Y')))\n",
    "\n",
    "# Create DATE objects based on strings that have different date formats\n",
    "print(\"{!s}\".format(datetime.date(datetime.strptime(date3, '%Y-%m-%d'))))\n",
    "print(\"{!s}\".format(datetime.date(datetime.strptime(date4, '%B %d, %Y'))))"
   ]
  },
  {
   "cell_type": "markdown",
   "metadata": {},
   "source": [
    "<ol>\n",
    "    <li>\n",
    "        Basics of Python\n",
    "        <ul>\n",
    "            <li>\n",
    "                Print Statement\n",
    "            </li>\n",
    "            <li>\n",
    "                Strings\n",
    "            </li>            \n",
    "            <li>\n",
    "                Numbers\n",
    "            </li>\n",
    "            <li>\n",
    "                Dates\n",
    "            </li>\n",
    "            <li>\n",
    "                Lists\n",
    "            </li>\n",
    "            <li>\n",
    "                Tuples\n",
    "            </li>\n",
    "            <li>\n",
    "                Dictionaries\n",
    "            </li>            \n",
    "            <li>\n",
    "                Control flow\n",
    "            </li>            \n",
    "            <li>\n",
    "                Functions\n",
    "            </li>\n",
    "            <li>\n",
    "                Exceptions\n",
    "            </li>   \n",
    "        </ul>\n",
    "    </li>\n",
    "</ol>"
   ]
  }
 ],
 "metadata": {
  "kernelspec": {
   "display_name": "Python 3",
   "language": "python",
   "name": "python3"
  },
  "language_info": {
   "codemirror_mode": {
    "name": "ipython",
    "version": 3
   },
   "file_extension": ".py",
   "mimetype": "text/x-python",
   "name": "python",
   "nbconvert_exporter": "python",
   "pygments_lexer": "ipython3",
   "version": "3.7.4"
  }
 },
 "nbformat": 4,
 "nbformat_minor": 4
}
